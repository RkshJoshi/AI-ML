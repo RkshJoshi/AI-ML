{
 "cells": [
  {
   "cell_type": "code",
   "execution_count": 46,
   "metadata": {},
   "outputs": [],
   "source": [
    "import numpy as np\n",
    "import pandas as pd\n",
    "import matplotlib.pyplot as plt\n",
    "%matplotlib inline\n",
    "import seaborn as sns\n",
    "import math\n",
    "import datetime\n",
    "from sklearn import preprocessing\n",
    "from sklearn.preprocessing import scale\n",
    "from sklearn.model_selection import train_test_split\n",
    "from sklearn.linear_model import LinearRegression"
   ]
  },
  {
   "cell_type": "code",
   "execution_count": 47,
   "metadata": {},
   "outputs": [
    {
     "name": "stdout",
     "output_type": "stream",
     "text": [
      "                   Open         High          Low        Close    Adj Close  \\\n",
      "Date                                                                          \n",
      "2020-05-26  1441.959961  1445.109985  1419.400024  1421.369995  1421.369995   \n",
      "2020-05-27  1420.000000  1425.349976  1394.599976  1420.280029  1420.280029   \n",
      "2020-05-28  1400.000000  1444.459961  1399.079956  1418.239990  1418.239990   \n",
      "2020-05-29  1420.430054  1436.729980  1415.979980  1433.520020  1433.520020   \n",
      "2020-06-01  1425.699951  1441.579956  1422.280029  1434.869995  1434.869995   \n",
      "2020-06-02  1435.000000  1443.000000  1421.609985  1442.310059  1442.310059   \n",
      "2020-06-03  1442.699951  1449.010010  1431.619995  1439.250000  1439.250000   \n",
      "2020-06-04  1436.780029  1441.319946  1406.010010  1414.300049  1414.300049   \n",
      "2020-06-05  1415.640015  1446.300049  1407.619995  1440.020020  1440.020020   \n",
      "2020-06-08  1426.280029  1449.000000  1424.479980  1448.040039  1448.040039   \n",
      "\n",
      "             Volume  HL_Change  PCT_Change  \n",
      "Date                                        \n",
      "2020-05-26  2229500   1.779101   -1.427915  \n",
      "2020-05-27  1584200   2.157365    0.019720  \n",
      "2020-05-28  1758500   3.141659    1.302856  \n",
      "2020-05-29  1852200   1.444252    0.921549  \n",
      "2020-06-01  1258100   1.338804    0.643196  \n",
      "2020-06-02  1172100   1.482330    0.509412  \n",
      "2020-06-03  1386600   1.200131   -0.239132  \n",
      "2020-06-04  1349100   2.449833   -1.564608  \n",
      "2020-06-05  2132100   2.674414    1.722190  \n",
      "2020-06-08  1693900   1.692203    1.525648  \n"
     ]
    },
    {
     "data": {
      "text/html": [
       "<div>\n",
       "<style scoped>\n",
       "    .dataframe tbody tr th:only-of-type {\n",
       "        vertical-align: middle;\n",
       "    }\n",
       "\n",
       "    .dataframe tbody tr th {\n",
       "        vertical-align: top;\n",
       "    }\n",
       "\n",
       "    .dataframe thead th {\n",
       "        text-align: right;\n",
       "    }\n",
       "</style>\n",
       "<table border=\"1\" class=\"dataframe\">\n",
       "  <thead>\n",
       "    <tr style=\"text-align: right;\">\n",
       "      <th></th>\n",
       "      <th>Adj Close</th>\n",
       "      <th>HL_Change</th>\n",
       "      <th>PCT_Change</th>\n",
       "      <th>Volume</th>\n",
       "    </tr>\n",
       "    <tr>\n",
       "      <th>Date</th>\n",
       "      <th></th>\n",
       "      <th></th>\n",
       "      <th></th>\n",
       "      <th></th>\n",
       "    </tr>\n",
       "  </thead>\n",
       "  <tbody>\n",
       "    <tr>\n",
       "      <th>2021-05-17</th>\n",
       "      <td>2288.919922</td>\n",
       "      <td>1.496651</td>\n",
       "      <td>1.119906</td>\n",
       "      <td>1079900</td>\n",
       "    </tr>\n",
       "    <tr>\n",
       "      <th>2021-05-18</th>\n",
       "      <td>2262.469971</td>\n",
       "      <td>1.971244</td>\n",
       "      <td>-1.732149</td>\n",
       "      <td>1110200</td>\n",
       "    </tr>\n",
       "    <tr>\n",
       "      <th>2021-05-19</th>\n",
       "      <td>2271.500000</td>\n",
       "      <td>2.178034</td>\n",
       "      <td>1.932754</td>\n",
       "      <td>1184200</td>\n",
       "    </tr>\n",
       "    <tr>\n",
       "      <th>2021-05-20</th>\n",
       "      <td>2306.949951</td>\n",
       "      <td>1.231833</td>\n",
       "      <td>0.696200</td>\n",
       "      <td>1617600</td>\n",
       "    </tr>\n",
       "    <tr>\n",
       "      <th>2021-05-21</th>\n",
       "      <td>2294.129883</td>\n",
       "      <td>1.276035</td>\n",
       "      <td>-1.004571</td>\n",
       "      <td>2030700</td>\n",
       "    </tr>\n",
       "  </tbody>\n",
       "</table>\n",
       "</div>"
      ],
      "text/plain": [
       "              Adj Close  HL_Change  PCT_Change   Volume\n",
       "Date                                                   \n",
       "2021-05-17  2288.919922   1.496651    1.119906  1079900\n",
       "2021-05-18  2262.469971   1.971244   -1.732149  1110200\n",
       "2021-05-19  2271.500000   2.178034    1.932754  1184200\n",
       "2021-05-20  2306.949951   1.231833    0.696200  1617600\n",
       "2021-05-21  2294.129883   1.276035   -1.004571  2030700"
      ]
     },
     "execution_count": 47,
     "metadata": {},
     "output_type": "execute_result"
    }
   ],
   "source": [
    "df = pd.read_csv('GOOGL.csv')\n",
    "df.set_index('Date',inplace=True)\n",
    "df.index = pd.to_datetime(df.index)\n",
    "df['HL_Change'] = (df['High'] - df['Low'])/ df['High'] * 100.0\n",
    "df['PCT_Change'] = (df['Close'] - df['Open'])/ df['Open'] * 100.0\n",
    "print(df.head(10))\n",
    "df = df[['Adj Close','HL_Change','PCT_Change','Volume']]\n",
    "df.tail()"
   ]
  },
  {
   "cell_type": "code",
   "execution_count": 48,
   "metadata": {},
   "outputs": [],
   "source": [
    "def prepare_data(df,forecast_col,forecast_out):\n",
    "    df['label'] = df[forecast_col].shift(-forecast_out)\n",
    "    X = df.drop(['label'], axis=1)\n",
    "    X = preprocessing.scale(X)\n",
    "    X_lately = X[-forecast_out:]\n",
    "    X = X[:-forecast_out,:]\n",
    "    df.dropna(inplace=True)\n",
    "    print(\"Head\\n\",df.head())\n",
    "    print(\"Tail\\n\",df.tail())\n",
    "    y = df['label']\n",
    "    print(y)\n",
    "    print(\"X Lately\\n\",X_lately)\n",
    "    X_train, X_test, y_train, y_test = train_test_split(X, y, test_size=0.25, random_state=42)\n",
    "    response = X_train, X_test, y_train, y_test,X_lately\n",
    "    return response"
   ]
  },
  {
   "cell_type": "code",
   "execution_count": 49,
   "metadata": {},
   "outputs": [
    {
     "name": "stdout",
     "output_type": "stream",
     "text": [
      "Head\n",
      "               Adj Close  HL_Change  PCT_Change   Volume        label\n",
      "Date                                                                \n",
      "2020-05-26  1421.369995   1.779101   -1.427915  2229500  1414.300049\n",
      "2020-05-27  1420.280029   2.157365    0.019720  1584200  1440.020020\n",
      "2020-05-28  1418.239990   3.141659    1.302856  1758500  1448.040039\n",
      "2020-05-29  1433.520020   1.444252    0.921549  1852200  1452.079956\n",
      "2020-06-01  1434.869995   1.338804    0.643196  1258100  1464.699951\n",
      "Tail\n",
      "               Adj Close  HL_Change  PCT_Change   Volume        label\n",
      "Date                                                                \n",
      "2021-05-06  2337.350098   1.895739    1.344995  1259500  2288.919922\n",
      "2021-05-07  2351.929932   1.058095   -0.505944  1444500  2262.469971\n",
      "2021-05-10  2291.750000   1.993134   -1.563046  1545700  2271.500000\n",
      "2021-05-11  2270.060059   2.033088    1.203261  1709300  2306.949951\n",
      "2021-05-12  2200.250000   2.418165   -1.165217  2318800  2294.129883\n",
      "Date\n",
      "2020-05-26    1414.300049\n",
      "2020-05-27    1440.020020\n",
      "2020-05-28    1448.040039\n",
      "2020-05-29    1452.079956\n",
      "2020-06-01    1464.699951\n",
      "                 ...     \n",
      "2021-05-06    2288.919922\n",
      "2021-05-07    2262.469971\n",
      "2021-05-10    2271.500000\n",
      "2021-05-11    2306.949951\n",
      "2021-05-12    2294.129883\n",
      "Name: label, Length: 244, dtype: float64\n",
      "X Lately\n",
      " [[ 1.56474775 -0.84991748  0.01897699 -0.11332141]\n",
      " [ 1.73382421 -0.7866223   0.56019884 -0.20050837]\n",
      " [ 1.76994253 -0.8114823   0.73508658 -0.94274096]\n",
      " [ 1.67930455 -0.29870291 -1.33055732 -0.89943334]\n",
      " [ 1.71024841 -0.07527379  1.32380418 -0.79366555]\n",
      " [ 1.83172735 -1.09760839  0.42821144 -0.17420935]\n",
      " [ 1.78779588 -1.04984995 -0.80359814  0.41623217]]\n"
     ]
    }
   ],
   "source": [
    "forecast_out = 7\n",
    "forecast_col = 'Adj Close'\n",
    "X_train, X_test, y_train, y_test,X_lately = prepare_data(df,forecast_col,forecast_out)"
   ]
  },
  {
   "cell_type": "code",
   "execution_count": 50,
   "metadata": {},
   "outputs": [
    {
     "name": "stdout",
     "output_type": "stream",
     "text": [
      "(183, 4) (183,) (61, 4) (61,)\n",
      "              Adj Close  HL_Change  PCT_Change   Volume        label\n",
      "Date                                                                \n",
      "2021-04-29  2392.760010   1.260724    0.147748  2061700  2291.750000\n",
      "2021-04-30  2353.500000   1.481623   -0.613171  2242000  2270.060059\n",
      "2021-05-03  2343.080078   1.933617   -0.923073  1412100  2200.250000\n",
      "2021-05-04  2306.830078   2.938080   -0.290461  2240900  2229.040039\n",
      "2021-05-05  2314.770020   1.144324   -0.595194  1331800  2278.379883\n",
      "2021-05-06  2337.350098   1.895739    1.344995  1259500  2288.919922\n",
      "2021-05-07  2351.929932   1.058095   -0.505944  1444500  2262.469971\n",
      "2021-05-10  2291.750000   1.993134   -1.563046  1545700  2271.500000\n",
      "2021-05-11  2270.060059   2.033088    1.203261  1709300  2306.949951\n",
      "2021-05-12  2200.250000   2.418165   -1.165217  2318800  2294.129883\n"
     ]
    }
   ],
   "source": [
    "print(X_train.shape,y_train.shape, X_test.shape, y_test.shape)\n",
    "print(df.tail(10))"
   ]
  },
  {
   "cell_type": "code",
   "execution_count": 51,
   "metadata": {},
   "outputs": [
    {
     "data": {
      "text/plain": [
       "LinearRegression()"
      ]
     },
     "execution_count": 51,
     "metadata": {},
     "output_type": "execute_result"
    }
   ],
   "source": [
    "lm_model = LinearRegression()\n",
    "lm_model.fit(X_train,y_train)"
   ]
  },
  {
   "cell_type": "code",
   "execution_count": 52,
   "metadata": {},
   "outputs": [],
   "source": [
    "r2_score = lm_model.score(X_test,y_test)"
   ]
  },
  {
   "cell_type": "code",
   "execution_count": 53,
   "metadata": {},
   "outputs": [
    {
     "name": "stdout",
     "output_type": "stream",
     "text": [
      "0.9358226682051908\n"
     ]
    }
   ],
   "source": [
    "print(r2_score)"
   ]
  },
  {
   "cell_type": "code",
   "execution_count": 54,
   "metadata": {},
   "outputs": [],
   "source": [
    "preds = lm_model.predict(X_lately)"
   ]
  },
  {
   "cell_type": "code",
   "execution_count": 55,
   "metadata": {},
   "outputs": [
    {
     "name": "stdout",
     "output_type": "stream",
     "text": [
      "[2247.32474146 2293.70432936 2295.21123662 2272.70939728 2276.60280319\n",
      " 2323.28767001 2319.97485613]\n"
     ]
    }
   ],
   "source": [
    "print(preds)"
   ]
  },
  {
   "cell_type": "code",
   "execution_count": 56,
   "metadata": {},
   "outputs": [
    {
     "name": "stdout",
     "output_type": "stream",
     "text": [
      "2021-05-12 00:00:00\n",
      "Lastdate and last unix us  2021-05-12 00:00:00 1620777600.0\n",
      "Before\n",
      "               Adj Close  HL_Change  PCT_Change   Volume        label  forecast\n",
      "Date                                                                          \n",
      "2021-05-06  2337.350098   1.895739    1.344995  1259500  2288.919922       NaN\n",
      "2021-05-07  2351.929932   1.058095   -0.505944  1444500  2262.469971       NaN\n",
      "2021-05-10  2291.750000   1.993134   -1.563046  1545700  2271.500000       NaN\n",
      "2021-05-11  2270.060059   2.033088    1.203261  1709300  2306.949951       NaN\n",
      "2021-05-12  2200.250000   2.418165   -1.165217  2318800  2294.129883       NaN\n",
      "2021-05-13 05:30:00\n",
      "2021-05-14 05:30:00\n",
      "2021-05-15 05:30:00\n",
      "2021-05-16 05:30:00\n",
      "2021-05-17 05:30:00\n",
      "2021-05-18 05:30:00\n",
      "2021-05-19 05:30:00\n",
      "After\n",
      "                      Adj Close  HL_Change  PCT_Change  Volume  label  \\\n",
      "Date                                                                   \n",
      "2021-05-15 05:30:00        NaN        NaN         NaN     NaN    NaN   \n",
      "2021-05-16 05:30:00        NaN        NaN         NaN     NaN    NaN   \n",
      "2021-05-17 05:30:00        NaN        NaN         NaN     NaN    NaN   \n",
      "2021-05-18 05:30:00        NaN        NaN         NaN     NaN    NaN   \n",
      "2021-05-19 05:30:00        NaN        NaN         NaN     NaN    NaN   \n",
      "\n",
      "                        forecast  \n",
      "Date                              \n",
      "2021-05-15 05:30:00  2295.211237  \n",
      "2021-05-16 05:30:00  2272.709397  \n",
      "2021-05-17 05:30:00  2276.602803  \n",
      "2021-05-18 05:30:00  2323.287670  \n",
      "2021-05-19 05:30:00  2319.974856  \n",
      "              Adj Close  HL_Change  PCT_Change     Volume        label  \\\n",
      "Date                                                                     \n",
      "2020-05-26  1421.369995   1.779101   -1.427915  2229500.0  1414.300049   \n",
      "2020-05-27  1420.280029   2.157365    0.019720  1584200.0  1440.020020   \n",
      "2020-05-28  1418.239990   3.141659    1.302856  1758500.0  1448.040039   \n",
      "2020-05-29  1433.520020   1.444252    0.921549  1852200.0  1452.079956   \n",
      "2020-06-01  1434.869995   1.338804    0.643196  1258100.0  1464.699951   \n",
      "\n",
      "            forecast  \n",
      "Date                  \n",
      "2020-05-26       NaN  \n",
      "2020-05-27       NaN  \n",
      "2020-05-28       NaN  \n",
      "2020-05-29       NaN  \n",
      "2020-06-01       NaN  \n"
     ]
    }
   ],
   "source": [
    "df['forecast'] = np.nan\n",
    "last_date = df.iloc[-1].name\n",
    "print(last_date)\n",
    "last_unix = last_date.timestamp()\n",
    "print(\"Lastdate and last unix us \",last_date,last_unix)\n",
    "one_day = 86400\n",
    "next_unix = last_unix + one_day\n",
    "print(\"Before\\n\",df.tail(5))\n",
    "for i in preds:\n",
    "    next_date = datetime.datetime.fromtimestamp(next_unix)\n",
    "    print(next_date)\n",
    "    next_unix += one_day\n",
    "    df.loc[next_date] = [np.nan for _ in range(len(df.columns)-1)] + [i]\n",
    "print(\"After\\n\",df.tail(5))\n",
    "print(df.head(5))\n",
    "\n"
   ]
  },
  {
   "cell_type": "code",
   "execution_count": null,
   "metadata": {},
   "outputs": [],
   "source": []
  },
  {
   "cell_type": "code",
   "execution_count": null,
   "metadata": {},
   "outputs": [],
   "source": []
  },
  {
   "cell_type": "code",
   "execution_count": null,
   "metadata": {},
   "outputs": [],
   "source": []
  },
  {
   "cell_type": "code",
   "execution_count": null,
   "metadata": {},
   "outputs": [],
   "source": []
  },
  {
   "cell_type": "code",
   "execution_count": null,
   "metadata": {},
   "outputs": [],
   "source": []
  },
  {
   "cell_type": "code",
   "execution_count": null,
   "metadata": {},
   "outputs": [],
   "source": []
  }
 ],
 "metadata": {
  "kernelspec": {
   "display_name": "Python 3",
   "language": "python",
   "name": "python3"
  },
  "language_info": {
   "codemirror_mode": {
    "name": "ipython",
    "version": 3
   },
   "file_extension": ".py",
   "mimetype": "text/x-python",
   "name": "python",
   "nbconvert_exporter": "python",
   "pygments_lexer": "ipython3",
   "version": "3.8.5"
  }
 },
 "nbformat": 4,
 "nbformat_minor": 4
}
